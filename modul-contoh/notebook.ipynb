{
  "cells": [
    {
      "cell_type": "markdown",
      "metadata": {
        "id": "QvhEGBDj4Nbj"
      },
      "source": [
        "# **Count number of fruits from an image**"
      ]
    },
    {
      "cell_type": "markdown",
      "metadata": {
        "id": "idPB9oKT4UcL"
      },
      "source": [
        "## Input\n",
        "Read the image"
      ]
    },
    {
      "cell_type": "code",
      "execution_count": null,
      "metadata": {},
      "outputs": [],
      "source": [
        "import numpy as np\n",
        "import cv2\n",
        "from matplotlib import pyplot as plt"
      ]
    },
    {
      "cell_type": "code",
      "execution_count": null,
      "metadata": {
        "colab": {
          "base_uri": "https://localhost:8080/",
          "height": 467
        },
        "id": "dPFXtXmdbKDM",
        "outputId": "6d8a7af0-131c-42a3-f607-a89670f0f8f2"
      },
      "outputs": [],
      "source": [
        "img = cv2.imread('fruits.jpg')\n",
        "#show the image\n",
        "im_rgb = cv2.cvtColor(img, cv2.COLOR_BGR2RGB)\n",
        "plt.imshow(im_rgb), plt.grid(False)\n",
        "plt.xticks([]), plt.yticks([])"
      ]
    },
    {
      "cell_type": "markdown",
      "metadata": {
        "id": "ShSwzB0U4-Lf"
      },
      "source": [
        "## Grayscale\n",
        "Convert the image to grayscale. The colour of fruits makes them a lighter shade than the background leaves, making it easier to detect."
      ]
    },
    {
      "cell_type": "code",
      "execution_count": null,
      "metadata": {
        "colab": {
          "base_uri": "https://localhost:8080/",
          "height": 467
        },
        "id": "atN2QJWuPLNG",
        "outputId": "60a34504-8d1c-47de-9d4a-b9a51b62711a"
      },
      "outputs": [],
      "source": [
        "gray = cv2.cvtColor(img, cv2.COLOR_BGR2GRAY)\n",
        "plt.imshow(gray, cmap='gray'), plt.grid(False)\n",
        "plt.xticks([]), plt.yticks([])"
      ]
    },
    {
      "cell_type": "markdown",
      "metadata": {
        "id": "f65XWl4_5CH1"
      },
      "source": [
        "## Gaussian filter\n",
        "Remove noise from image and reduce contrast, otherwise the leaves will be highlighted more if there is more contrast. Use gaussian filter for the same."
      ]
    },
    {
      "cell_type": "code",
      "execution_count": null,
      "metadata": {
        "colab": {
          "base_uri": "https://localhost:8080/",
          "height": 467
        },
        "id": "YHv-MQkBPpMi",
        "outputId": "28bbd991-fb7d-482e-84e6-445dc84edc6d"
      },
      "outputs": [],
      "source": [
        "blur = cv2.GaussianBlur(gray,(25,25),0)\n",
        "plt.imshow(blur, cmap='gray'), plt.grid(False)\n",
        "plt.xticks([]), plt.yticks([])"
      ]
    },
    {
      "attachments": {},
      "cell_type": "markdown",
      "metadata": {},
      "source": [
        "# metode 1\n",
        "dengan watershed"
      ]
    },
    {
      "cell_type": "code",
      "execution_count": null,
      "metadata": {},
      "outputs": [],
      "source": [
        "brightness = -140\n",
        "contrast = 90\n",
        "tmp = np.int16(blur)\n",
        "tmp = tmp * (contrast/127+1) - contrast + brightness\n",
        "tmp = np.clip(tmp, 0, 255)\n",
        "adjusted = np.uint8(tmp)\n",
        "plt.imshow(adjusted, cmap='gray'), plt.grid(False)\n",
        "plt.xticks([]), plt.yticks([])"
      ]
    },
    {
      "cell_type": "code",
      "execution_count": null,
      "metadata": {},
      "outputs": [],
      "source": [
        "#threshold\n",
        "ret, thresh = cv2.threshold(adjusted,0,255,cv2.THRESH_BINARY+cv2.THRESH_OTSU)\n",
        "plt.imshow(thresh, cmap='binary_r'), plt.grid(False)\n",
        "plt.xticks([]), plt.yticks([])"
      ]
    },
    {
      "cell_type": "code",
      "execution_count": null,
      "metadata": {},
      "outputs": [],
      "source": [
        "# noise removal\n",
        "kernel = np.ones((5,5),np.uint8)\n",
        "opening = cv2.morphologyEx(thresh,cv2.MORPH_OPEN,kernel, iterations = 2)\n",
        "plt.imshow(opening, cmap='binary_r'), plt.grid(False)\n",
        "plt.xticks([]), plt.yticks([])"
      ]
    },
    {
      "cell_type": "code",
      "execution_count": null,
      "metadata": {},
      "outputs": [],
      "source": [
        "# sure background area\n",
        "sure_bg = cv2.dilate(opening,kernel,iterations=3)\n",
        "plt.imshow(sure_bg, cmap='binary_r'), plt.grid(False)\n",
        "plt.xticks([]), plt.yticks([])"
      ]
    },
    {
      "cell_type": "code",
      "execution_count": null,
      "metadata": {},
      "outputs": [],
      "source": [
        "# Finding sure foreground area\n",
        "dist_transform = cv2.distanceTransform(opening,cv2.DIST_L2,3)\n",
        "plt.imshow(dist_transform, cmap='binary_r'), plt.grid(False)\n",
        "plt.xticks([]), plt.yticks([])"
      ]
    },
    {
      "cell_type": "code",
      "execution_count": null,
      "metadata": {},
      "outputs": [],
      "source": [
        "ret, sure_fg = cv2.threshold(dist_transform,0.1*dist_transform.max(),255,0)\n",
        "plt.imshow(sure_fg, cmap='binary_r'), plt.grid(False)\n",
        "plt.xticks([]), plt.yticks([])"
      ]
    },
    {
      "cell_type": "code",
      "execution_count": null,
      "metadata": {},
      "outputs": [],
      "source": [
        "sure_fg = np.uint8(sure_fg)\n",
        "unknown = cv2.subtract(sure_bg,sure_fg)\n",
        "plt.imshow(unknown, cmap='binary_r'), plt.grid(False)\n",
        "plt.xticks([]), plt.yticks([])"
      ]
    },
    {
      "cell_type": "code",
      "execution_count": null,
      "metadata": {},
      "outputs": [],
      "source": [
        "# Marker labelling\n",
        "ret, markers = cv2.connectedComponents(sure_fg)\n",
        "markers = markers+1\n",
        "# Now, mark the region of unknown with zero\n",
        "markers[unknown==255] = 0\n",
        "plt.imshow(markers), plt.grid(False)\n",
        "plt.xticks([]), plt.yticks([])"
      ]
    },
    {
      "cell_type": "code",
      "execution_count": null,
      "metadata": {},
      "outputs": [],
      "source": [
        "markers = cv2.watershed(img,markers)\n",
        "img[markers == -1] = [255,0,0]\n",
        "plt.imshow(markers), plt.grid(False)\n",
        "plt.xticks([]), plt.yticks([])"
      ]
    },
    {
      "cell_type": "code",
      "execution_count": null,
      "metadata": {},
      "outputs": [],
      "source": [
        "new_img = img.copy()\n",
        "conts,h=cv2.findContours(sure_fg.copy(),cv2.RETR_EXTERNAL,cv2.CHAIN_APPROX_NONE)\n",
        "number_of_objects_in_image= len(conts)\n",
        "print(\"jumlah buah: \"+str(number_of_objects_in_image))\n",
        "for i in range(len(conts)):\n",
        "    x,y,w,h=cv2.boundingRect(conts[i])\n",
        "    cv2.rectangle(new_img,(x,y),(x+w,y+h),(0,0,255), 2)\n",
        "    cv2.putText(new_img, str(i+1),(x,y+h),cv2.FONT_HERSHEY_SIMPLEX,0.8,(0,255,255))\n",
        "# show the image\n",
        "im_rgb = cv2.cvtColor(new_img, cv2.COLOR_BGR2RGB)\n",
        "plt.imshow(im_rgb), plt.grid(False)\n",
        "plt.xticks([]), plt.yticks([])"
      ]
    }
  ],
  "metadata": {
    "colab": {
      "authorship_tag": "ABX9TyMlqTn1V1EA6ZfCvY2trpJd",
      "collapsed_sections": [],
      "include_colab_link": true,
      "name": "count-fruits.ipynb",
      "provenance": []
    },
    "kernelspec": {
      "display_name": "pcd",
      "language": "python",
      "name": "python3"
    },
    "language_info": {
      "codemirror_mode": {
        "name": "ipython",
        "version": 3
      },
      "file_extension": ".py",
      "mimetype": "text/x-python",
      "name": "python",
      "nbconvert_exporter": "python",
      "pygments_lexer": "ipython3",
      "version": "3.9.13 | packaged by conda-forge | (main, May 27 2022, 16:50:36) [MSC v.1929 64 bit (AMD64)]"
    },
    "vscode": {
      "interpreter": {
        "hash": "5649037b633350cc4136c4b05a8a2a59030fe7da7c635e857fbddfa76a4c0dcc"
      }
    }
  },
  "nbformat": 4,
  "nbformat_minor": 0
}
