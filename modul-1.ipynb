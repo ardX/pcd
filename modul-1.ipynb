{
 "cells": [
  {
   "attachments": {},
   "cell_type": "markdown",
   "metadata": {},
   "source": [
    "# Modul 1 pengenalan\n",
    "\n",
    "### Import package opencv"
   ]
  },
  {
   "cell_type": "code",
   "execution_count": null,
   "metadata": {},
   "outputs": [],
   "source": [
    "import cv2\n",
    "import numpy as np\n",
    "from matplotlib import pyplot as plt"
   ]
  },
  {
   "attachments": {},
   "cell_type": "markdown",
   "metadata": {},
   "source": [
    "## Membaca dan menampilkan file citra pada jupyter notebook\n",
    "\n",
    "membaca file citra grayscale"
   ]
  },
  {
   "cell_type": "code",
   "execution_count": null,
   "metadata": {},
   "outputs": [],
   "source": [
    "img = cv2.imread(\"images/lincoln.png\", cv2.IMREAD_GRAYSCALE)"
   ]
  },
  {
   "attachments": {},
   "cell_type": "markdown",
   "metadata": {},
   "source": [
    "menampilkan citra yang sudah dibaca"
   ]
  },
  {
   "cell_type": "code",
   "execution_count": null,
   "metadata": {},
   "outputs": [],
   "source": [
    "plt.imshow(img, cmap='gray'), plt.grid(False)\n",
    "plt.xticks([]), plt.yticks([])"
   ]
  },
  {
   "attachments": {},
   "cell_type": "markdown",
   "metadata": {},
   "source": [
    "### bagaimana citra disimpan dalam memory\n",
    "\n",
    "![](images/lincoln_pixel_values.png)"
   ]
  },
  {
   "cell_type": "code",
   "execution_count": null,
   "metadata": {},
   "outputs": [],
   "source": [
    "print(img)"
   ]
  },
  {
   "attachments": {},
   "cell_type": "markdown",
   "metadata": {},
   "source": [
    "properti dari citra grayscale"
   ]
  },
  {
   "cell_type": "code",
   "execution_count": null,
   "metadata": {},
   "outputs": [],
   "source": [
    "print(img.shape)"
   ]
  },
  {
   "attachments": {},
   "cell_type": "markdown",
   "metadata": {},
   "source": [
    "citra berwarna (RGB)\n"
   ]
  },
  {
   "cell_type": "code",
   "execution_count": null,
   "metadata": {},
   "outputs": [],
   "source": [
    "img = cv2.imread(\"images/mandrill.jpg\", cv2.IMREAD_COLOR)"
   ]
  },
  {
   "attachments": {},
   "cell_type": "markdown",
   "metadata": {},
   "source": [
    "menampilkan"
   ]
  },
  {
   "cell_type": "code",
   "execution_count": null,
   "metadata": {},
   "outputs": [],
   "source": [
    "plt.imshow(img), plt.grid(False)\n",
    "plt.xticks([]), plt.yticks([])"
   ]
  },
  {
   "attachments": {},
   "cell_type": "markdown",
   "metadata": {},
   "source": [
    "warnae gak cocok? wtf"
   ]
  },
  {
   "cell_type": "code",
   "execution_count": null,
   "metadata": {},
   "outputs": [],
   "source": [
    "im_rgb = cv2.cvtColor(img, cv2.COLOR_BGR2RGB)\n",
    "\n",
    "plt.imshow(im_rgb), plt.grid(False)\n",
    "plt.xticks([]), plt.yticks([])"
   ]
  },
  {
   "attachments": {},
   "cell_type": "markdown",
   "metadata": {},
   "source": [
    "isi di memory\n",
    "\n",
    "intinya gini\n",
    "\n",
    "![](images/interleaved_1.png)\n",
    "\n",
    "\n",
    "\n",
    "ini di monitor\n",
    "\n",
    "![](images/rgb-screen.jpg)\n",
    "\n",
    "\n",
    "\n",
    "ini di array yang disimpan opencv\n",
    "\n",
    "![](images/three_d_array.png)"
   ]
  },
  {
   "cell_type": "code",
   "execution_count": null,
   "metadata": {},
   "outputs": [],
   "source": [
    "print(img)"
   ]
  },
  {
   "cell_type": "code",
   "execution_count": null,
   "metadata": {},
   "outputs": [],
   "source": [
    "h, w, c = img.shape\n",
    "print(\"Dimensi dari citra :\\nTinggi:\", h, \"pixels\\nLebar:\", w, \"pixels\\nJumlah Channels:\", c)"
   ]
  },
  {
   "cell_type": "code",
   "execution_count": null,
   "metadata": {},
   "outputs": [],
   "source": [
    "gray = cv2.cvtColor(img, cv2.COLOR_BGR2GRAY)\n",
    "\n",
    "blue, green, red = cv2.split(img)\n",
    "\n",
    "plt.subplot(221), plt.imshow(gray, cmap='gray'), plt.grid(False)\n",
    "plt.xticks([]), plt.yticks([])\n",
    "\n",
    "plt.subplot(222), plt.imshow(red, cmap='gray'), plt.grid(False)\n",
    "plt.xticks([]), plt.yticks([])\n",
    "\n",
    "plt.subplot(223), plt.imshow(green, cmap='gray'), plt.grid(False)\n",
    "plt.xticks([]), plt.yticks([])\n",
    "\n",
    "plt.subplot(224), plt.imshow(blue, cmap='gray'), plt.grid(False)\n",
    "plt.xticks([]), plt.yticks([])"
   ]
  }
 ],
 "metadata": {
  "kernelspec": {
   "display_name": "pcd",
   "language": "python",
   "name": "python3"
  },
  "language_info": {
   "codemirror_mode": {
    "name": "ipython",
    "version": 3
   },
   "file_extension": ".py",
   "mimetype": "text/x-python",
   "name": "python",
   "nbconvert_exporter": "python",
   "pygments_lexer": "ipython3",
   "version": "3.9.13 | packaged by conda-forge | (main, May 27 2022, 16:50:36) [MSC v.1929 64 bit (AMD64)]"
  },
  "orig_nbformat": 4,
  "vscode": {
   "interpreter": {
    "hash": "5649037b633350cc4136c4b05a8a2a59030fe7da7c635e857fbddfa76a4c0dcc"
   }
  }
 },
 "nbformat": 4,
 "nbformat_minor": 2
}
