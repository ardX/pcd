{
 "cells": [
  {
   "attachments": {},
   "cell_type": "markdown",
   "metadata": {},
   "source": [
    "# Modul 2 perbaikan citra\n",
    "\n",
    "### Import package opencv"
   ]
  },
  {
   "cell_type": "code",
   "execution_count": null,
   "metadata": {},
   "outputs": [],
   "source": [
    "import cv2\n",
    "import numpy as np\n",
    "from matplotlib import pyplot as plt"
   ]
  },
  {
   "attachments": {},
   "cell_type": "markdown",
   "metadata": {},
   "source": [
    "load"
   ]
  },
  {
   "cell_type": "code",
   "execution_count": null,
   "metadata": {},
   "outputs": [],
   "source": [
    "img = cv2.imread(\"images/mandrill.jpg\", cv2.IMREAD_COLOR)"
   ]
  },
  {
   "cell_type": "code",
   "execution_count": null,
   "metadata": {},
   "outputs": [],
   "source": [
    "im_rgb = cv2.cvtColor(img, cv2.COLOR_BGR2RGB)\n",
    "\n",
    "plt.imshow(im_rgb), plt.grid(False)\n",
    "plt.xticks([]), plt.yticks([])"
   ]
  },
  {
   "cell_type": "code",
   "execution_count": null,
   "metadata": {},
   "outputs": [],
   "source": [
    "img = cv2.cvtColor(img, cv2.COLOR_BGR2GRAY)\n",
    "\n",
    "plt.imshow(img, cmap='gray'), plt.grid(False)\n",
    "plt.xticks([]), plt.yticks([])\n"
   ]
  },
  {
   "cell_type": "code",
   "execution_count": null,
   "metadata": {},
   "outputs": [],
   "source": [
    "img_neg = 255 - img\n",
    "#img_neg = cv2.bitwise_not(img)\n",
    "\n",
    "plt.imshow(img_neg, cmap='gray'), plt.grid(False)\n",
    "plt.xticks([]), plt.yticks([])"
   ]
  },
  {
   "cell_type": "code",
   "execution_count": null,
   "metadata": {},
   "outputs": [],
   "source": [
    "# Apply log transformation method\n",
    "c = 255 / np.log(1 + np.max(img))\n",
    "log_image = c * (np.log(img + 1))\n",
    "   \n",
    "# Specify the data type so that\n",
    "# float value will be converted to int\n",
    "log_image = np.array(log_image, dtype = np.uint8)\n",
    "\n",
    "\n",
    "plt.imshow(log_image, cmap='gray'), plt.grid(False)\n",
    "plt.xticks([]), plt.yticks([])"
   ]
  },
  {
   "cell_type": "code",
   "execution_count": null,
   "metadata": {},
   "outputs": [],
   "source": [
    "gammapoint8 = np.array(255*(img/255)**0.8,dtype='uint8')\n",
    "gammapoint6 = np.array(255*(img/255)**0.6,dtype='uint8')\n",
    "gammapoint4 = np.array(255*(img/255)**0.4,dtype='uint8')\n",
    "gammapoint2 = np.array(255*(img/255)**0.2,dtype='uint8')\n",
    "\n",
    "plt.subplot(221), plt.imshow(gammapoint8, cmap='gray'), plt.grid(False)\n",
    "plt.xticks([]), plt.yticks([])\n",
    "\n",
    "plt.subplot(222), plt.imshow(gammapoint6, cmap='gray'), plt.grid(False)\n",
    "plt.xticks([]), plt.yticks([])\n",
    "\n",
    "plt.subplot(223), plt.imshow(gammapoint4, cmap='gray'), plt.grid(False)\n",
    "plt.xticks([]), plt.yticks([])\n",
    "\n",
    "plt.subplot(224), plt.imshow(gammapoint2, cmap='gray'), plt.grid(False)\n",
    "plt.xticks([]), plt.yticks([])"
   ]
  },
  {
   "cell_type": "code",
   "execution_count": null,
   "metadata": {},
   "outputs": [],
   "source": [
    "gammatime2 = np.array(255*(img/255)**2.0,dtype='uint8')\n",
    "gammatime3 = np.array(255*(img/255)**3.0,dtype='uint8')\n",
    "gammatime4 = np.array(255*(img/255)**4.0,dtype='uint8')\n",
    "gammatime5 = np.array(255*(img/255)**5.0,dtype='uint8')\n",
    "\n",
    "plt.subplot(221), plt.imshow(gammatime2, cmap='gray'), plt.grid(False)\n",
    "plt.xticks([]), plt.yticks([])\n",
    "\n",
    "plt.subplot(222), plt.imshow(gammatime3, cmap='gray'), plt.grid(False)\n",
    "plt.xticks([]), plt.yticks([])\n",
    "\n",
    "plt.subplot(223), plt.imshow(gammatime4, cmap='gray'), plt.grid(False)\n",
    "plt.xticks([]), plt.yticks([])\n",
    "\n",
    "plt.subplot(224), plt.imshow(gammatime5, cmap='gray'), plt.grid(False)\n",
    "plt.xticks([]), plt.yticks([])"
   ]
  },
  {
   "cell_type": "code",
   "execution_count": null,
   "metadata": {},
   "outputs": [],
   "source": [
    "def Contrast_stretch(p, r1, s1, r2, s2):\n",
    "    if (0 <= p and p <= r1):\n",
    "        equation = (s1 / r1)*p\n",
    "    elif (r1 < p and p <= r2):\n",
    "        equation = ((s2 - s1)/(r2 - r1))*(p - r1)+s1\n",
    "    else:\n",
    "        equation = ((255 - s2)/(255 - r2))*(p - r2)+s2\n",
    "    return equation\n",
    "\n",
    "r1 = 55\n",
    "s1 = 40\n",
    "r2 = 140\n",
    "s2 = 200\n",
    "pixelVal_vec = np.vectorize(Contrast_stretch)\n",
    "\n",
    "contrast = pixelVal_vec(img, r1, s1, r2, s2)\n",
    "\n",
    "plt.imshow(contrast, cmap='gray'), plt.grid(False)\n",
    "plt.xticks([]), plt.yticks([])\n"
   ]
  },
  {
   "cell_type": "code",
   "execution_count": null,
   "metadata": {},
   "outputs": [],
   "source": [
    "row, column= img.shape\n",
    "\n",
    "#  Create an zeros array to store the sliced image\n",
    "slice = np.zeros((row,column),dtype = 'uint8')\n",
    "\n",
    "#  Specify the min and max range\n",
    "min_range = 80\n",
    "max_range = 140\n",
    "\n",
    "# Loop over the input image and if pixel value lies in desired range set it to 255 \n",
    "# otherwise set it to desired value\n",
    "for i in range(row):\n",
    "    for j in range(column):\n",
    "        if img[i,j]>min_range and img[i,j]<max_range: \n",
    "            slice[i,j] = 255\n",
    "        else: \n",
    "            slice[i,j] = img[i-1,j-1] \n",
    "\n",
    "\n",
    "plt.imshow(slice, cmap='gray'), plt.grid(False)\n",
    "plt.xticks([]), plt.yticks([])"
   ]
  },
  {
   "cell_type": "code",
   "execution_count": null,
   "metadata": {},
   "outputs": [],
   "source": [
    "imgs = [255 * ((img& (1<<i)) >>i) for i in range(8)]\n",
    "\n",
    "plt.subplot(241), plt.imshow(imgs[0], cmap='gray'), plt.grid(False)\n",
    "plt.xticks([]), plt.yticks([])\n",
    "\n",
    "plt.subplot(242), plt.imshow(imgs[1], cmap='gray'), plt.grid(False)\n",
    "plt.xticks([]), plt.yticks([])\n",
    "\n",
    "plt.subplot(243), plt.imshow(imgs[2], cmap='gray'), plt.grid(False)\n",
    "plt.xticks([]), plt.yticks([])\n",
    "\n",
    "plt.subplot(244), plt.imshow(imgs[3], cmap='gray'), plt.grid(False)\n",
    "plt.xticks([]), plt.yticks([])\n",
    "\n",
    "plt.subplot(245), plt.imshow(imgs[4], cmap='gray'), plt.grid(False)\n",
    "plt.xticks([]), plt.yticks([])\n",
    "\n",
    "plt.subplot(246), plt.imshow(imgs[5], cmap='gray'), plt.grid(False)\n",
    "plt.xticks([]), plt.yticks([])\n",
    "\n",
    "plt.subplot(247), plt.imshow(imgs[6], cmap='gray'), plt.grid(False)\n",
    "plt.xticks([]), plt.yticks([])\n",
    "\n",
    "plt.subplot(248), plt.imshow(imgs[7], cmap='gray'), plt.grid(False)\n",
    "plt.xticks([]), plt.yticks([])"
   ]
  },
  {
   "cell_type": "code",
   "execution_count": null,
   "metadata": {},
   "outputs": [],
   "source": [
    "histr = cv2.calcHist([img],[0],None,[256],[0,256]) \n",
    "  \n",
    "# show the plotting graph of an image \n",
    "plt.plot(histr) \n",
    "plt.show() "
   ]
  },
  {
   "cell_type": "code",
   "execution_count": null,
   "metadata": {},
   "outputs": [],
   "source": [
    "equ = cv2.equalizeHist(img) \n",
    "\n",
    "plt.subplot(121), plt.imshow(img, cmap='gray'), plt.grid(False)\n",
    "plt.xticks([]), plt.yticks([])\n",
    "\n",
    "plt.subplot(122), plt.imshow(equ, cmap='gray'), plt.grid(False)\n",
    "plt.xticks([]), plt.yticks([])\n"
   ]
  },
  {
   "cell_type": "code",
   "execution_count": null,
   "metadata": {},
   "outputs": [],
   "source": [
    "histr = cv2.calcHist([equ],[0],None,[256],[0,256]) \n",
    "  \n",
    "# show the plotting graph of an image \n",
    "plt.plot(histr) \n",
    "plt.show() "
   ]
  },
  {
   "cell_type": "code",
   "execution_count": null,
   "metadata": {},
   "outputs": [],
   "source": [
    "clahe = cv2.createCLAHE(clipLimit=2.0, tileGridSize=(8, 8))\n",
    "equalized = clahe.apply(img)\n",
    "\n",
    "plt.subplot(121), plt.imshow(img, cmap='gray'), plt.grid(False)\n",
    "plt.xticks([]), plt.yticks([])\n",
    "\n",
    "plt.subplot(122), plt.imshow(equalized, cmap='gray'), plt.grid(False)\n",
    "plt.xticks([]), plt.yticks([])"
   ]
  },
  {
   "cell_type": "code",
   "execution_count": null,
   "metadata": {},
   "outputs": [],
   "source": [
    "and or xor not"
   ]
  },
  {
   "cell_type": "code",
   "execution_count": null,
   "metadata": {},
   "outputs": [],
   "source": [
    "blur3=cv2.blur(img,(3,3))\n",
    "blur5=cv2.blur(img,(5,5))\n",
    "\n",
    "plt.subplot(121), plt.imshow(blur3, cmap='gray'), plt.grid(False)\n",
    "plt.xticks([]), plt.yticks([])\n",
    "\n",
    "plt.subplot(122), plt.imshow(blur5, cmap='gray'), plt.grid(False)\n",
    "plt.xticks([]), plt.yticks([])"
   ]
  },
  {
   "cell_type": "code",
   "execution_count": null,
   "metadata": {},
   "outputs": [],
   "source": [
    "median3=cv2.medianBlur(img,3)\n",
    "median5=cv2.medianBlur(img,5)\n",
    "\n",
    "plt.subplot(121), plt.imshow(median3, cmap='gray'), plt.grid(False)\n",
    "plt.xticks([]), plt.yticks([])\n",
    "\n",
    "plt.subplot(122), plt.imshow(median5, cmap='gray'), plt.grid(False)\n",
    "plt.xticks([]), plt.yticks([])"
   ]
  },
  {
   "cell_type": "code",
   "execution_count": null,
   "metadata": {},
   "outputs": [],
   "source": [
    "kernel = np.array([\n",
    "    [1, 1, 1],\n",
    "    [1, 1, 1],\n",
    "    [1, 1, 1]\n",
    "    ]) / 9\n",
    "filter_result = cv2.filter2D(img, -1, kernel)\n",
    "\n",
    "plt.imshow(filter_result, cmap='gray'), plt.grid(False)\n",
    "plt.xticks([]), plt.yticks([])"
   ]
  },
  {
   "cell_type": "code",
   "execution_count": null,
   "metadata": {},
   "outputs": [],
   "source": [
    "kernel = np.array([\n",
    "    [1, 2, 1],\n",
    "    [2, 4, 2],\n",
    "    [1, 2, 1]\n",
    "    ]) / 16\n",
    "filter_result = cv2.filter2D(img, -1, kernel)\n",
    "\n",
    "plt.imshow(filter_result, cmap='gray'), plt.grid(False)\n",
    "plt.xticks([]), plt.yticks([])"
   ]
  },
  {
   "cell_type": "code",
   "execution_count": null,
   "metadata": {},
   "outputs": [],
   "source": [
    "# laplacian"
   ]
  },
  {
   "cell_type": "code",
   "execution_count": null,
   "metadata": {},
   "outputs": [],
   "source": [
    "# ambil dari digital image processing master"
   ]
  }
 ],
 "metadata": {
  "kernelspec": {
   "display_name": "pcd",
   "language": "python",
   "name": "python3"
  },
  "language_info": {
   "codemirror_mode": {
    "name": "ipython",
    "version": 3
   },
   "file_extension": ".py",
   "mimetype": "text/x-python",
   "name": "python",
   "nbconvert_exporter": "python",
   "pygments_lexer": "ipython3",
   "version": "3.9.13 | packaged by conda-forge | (main, May 27 2022, 16:50:36) [MSC v.1929 64 bit (AMD64)]"
  },
  "orig_nbformat": 4,
  "vscode": {
   "interpreter": {
    "hash": "5649037b633350cc4136c4b05a8a2a59030fe7da7c635e857fbddfa76a4c0dcc"
   }
  }
 },
 "nbformat": 4,
 "nbformat_minor": 2
}
